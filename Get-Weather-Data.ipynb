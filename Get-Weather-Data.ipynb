{
 "cells": [
  {
   "cell_type": "markdown",
   "metadata": {},
   "source": [
    "# Get weather data\n",
    "In this notebook, we will gather data according to the tutorial presented in https://stackabuse.com/using-machine-learning-to-predict-the-weather-part-1/, but we will use openweather insted of the weather underground's data. We can also check on the docs folder in the main tree of this file to see further references in the topic."
   ]
  },
  {
   "cell_type": "markdown",
   "metadata": {},
   "source": [
    "### Data\n",
    "Notice the above apis just provide free access to daily weather reports. For a historic context it has been very difficult to find. Darksky went Apple this year, and OpenWeather is charging 10 bucks for historical data for a particular location. Luckily, the website of the NOAA does provide api access as well as the posibility of downloading data for a particular location in a variety of formats like csv or even json files.\n",
    "I have downloaded data for Limon from 1990 until 04/2020 in a csv file. The data downloaded is simple precipitation and air temperature data, on monthly basis."
   ]
  },
  {
   "cell_type": "code",
   "execution_count": 21,
   "metadata": {},
   "outputs": [],
   "source": [
    "datafile = 'data/2154121.csv';\n"
   ]
  },
  {
   "cell_type": "code",
   "execution_count": 36,
   "metadata": {},
   "outputs": [
    {
     "name": "stdout",
     "output_type": "stream",
     "text": [
      "['STATION', 'NAME', 'DATE', 'CDSD', 'EMNT', 'EMXP', 'EMXT', 'HDSD', 'PRCP', 'TAVG', 'TMAX', 'TMIN']\n",
      "1990-01 28.6\n",
      "1990-02 28.7\n",
      "1990-03 28.8\n",
      "1990-04 29.9\n",
      "1990-05 29.3\n",
      "1990-06 29.4\n",
      "1990-07 29.1\n",
      "1990-08 29.3\n",
      "1990-09 30.3\n",
      "1990-10 30.6\n",
      "1990-11 29.7\n",
      "1990-12 28.3\n",
      "1991-01 28.6\n",
      "1991-02 28.5\n",
      "1991-03 29.4\n",
      "1991-04 29.6\n",
      "1991-05 29.5\n",
      "1991-06 30.1\n",
      "1991-07 29.1\n",
      "1991-08 29.0\n",
      "1991-09 29.5\n",
      "1991-10 30.1\n",
      "1991-11 28.2\n",
      "1991-12 28.4\n",
      "1992-01 28.4\n",
      "1992-02 29.0\n",
      "1992-03 29.1\n",
      "1992-04 29.5\n",
      "1992-05 29.8\n",
      "1992-06 31.1\n",
      "1992-07 29.4\n",
      "1992-08 29.1\n",
      "1992-09 30.2\n",
      "1992-10 29.6\n",
      "1992-11 30.1\n",
      "1992-12 29.3\n",
      "1993-01 28.7\n",
      "1993-02 29.3\n",
      "1993-03 29.2\n",
      "1993-04 30.8\n",
      "1993-05 31.3\n",
      "1993-06 30.3\n",
      "1993-07 29.2\n",
      "1993-08 29.7\n",
      "1993-09 29.8\n",
      "1993-10 30.1\n",
      "1993-11 29.6\n",
      "1993-12 28.9\n",
      "1994-01 29.0\n",
      "1994-02 28.5\n",
      "1994-03 29.9\n",
      "1994-04 29.6\n",
      "1994-05 30.3\n",
      "1994-06 29.0\n",
      "1994-07 28.2\n",
      "1994-08 29.6\n",
      "1994-09 29.5\n",
      "1994-10 30.0\n",
      "1994-11 29.4\n",
      "1994-12 28.3\n",
      "1995-01 28.9\n",
      "1995-02 28.6\n",
      "1995-03 29.8\n",
      "1995-04 29.9\n",
      "1995-05 30.6\n",
      "1995-06 30.6\n",
      "1995-07 30.2\n",
      "1995-08 30.8\n",
      "1995-09 30.7\n",
      "1995-10 30.6\n",
      "1995-11 28.9\n",
      "1995-12 29.3\n",
      "1996-01 28.2\n",
      "1996-02 28.2\n",
      "1996-03 28.7\n",
      "1996-04 29.6\n",
      "1996-05 29.8\n",
      "1996-06 29.2\n",
      "1996-07 29.8\n",
      "1996-08 29.4\n",
      "1996-09 30.4\n",
      "1996-10 31.0\n",
      "1996-11 29.6\n",
      "1996-12 27.7\n",
      "1997-01 28.7\n",
      "1997-02 27.4\n",
      "1997-03 28.9\n",
      "1997-04 29.9\n",
      "1997-05 29.1\n",
      "1997-06 30.3\n",
      "1997-07 29.7\n",
      "1997-08 30.0\n",
      "1997-09 30.6\n",
      "1997-10 30.4\n",
      "1997-11 29.7\n",
      "1997-12 29.1\n",
      "1998-01 29.7\n",
      "1998-02 29.8\n",
      "1998-03 29.9\n",
      "1998-04 29.9\n",
      "1998-05 30.5\n",
      "1998-06 30.4\n",
      "1998-07 30.2\n",
      "1998-08 30.1\n",
      "1998-09 31.9\n",
      "1998-10 30.5\n",
      "1998-11 30.1\n",
      "1998-12 27.9\n",
      "1999-01 29.1\n",
      "1999-02 28.9\n",
      "1999-03 29.3\n",
      "1999-04 29.8\n",
      "1999-05 30.8\n",
      "1999-06 29.9\n",
      "1999-07 29.4\n",
      "1999-08 29.8\n",
      "1999-09 30.4\n",
      "1999-10 29.8\n",
      "1999-11 28.6\n",
      "1999-12 27.1\n",
      "2000-01 27.9\n",
      "2000-02 27.9\n",
      "2000-03 28.9\n",
      "2000-04 29.5\n",
      "2000-05 29.4\n",
      "2000-06 29.9\n",
      "2000-07 29.5\n",
      "2000-08 29.5\n",
      "2000-09 30.8\n",
      "2000-10 30.0\n",
      "2000-11 29.6\n",
      "2000-12 29.1\n",
      "2001-01 28.2\n",
      "2001-02 28.6\n",
      "2001-03 28.7\n",
      "2001-04 28.9\n",
      "2001-05 30.3\n",
      "2001-06 29.4\n",
      "2001-07 29.4\n",
      "2001-08 29.6\n",
      "2001-09 29.8\n",
      "2001-10 30.6\n",
      "2001-11 28.6\n",
      "2001-12 29.0\n",
      "2002-01 28.7\n",
      "2002-02 28.8\n",
      "2002-03 28.9\n",
      "2002-04 29.4\n",
      "2002-05 29.0\n",
      "2002-06 30.4\n",
      "2002-07 29.0\n",
      "2002-08 29.6\n",
      "2002-09 31.1\n",
      "2002-10 30.3\n",
      "2002-11 29.0\n",
      "2002-12 29.3\n",
      "2003-01 28.8\n",
      "2003-02 29.2\n",
      "2003-03 30.0\n",
      "2003-04 30.4\n",
      "2003-05 30.1\n",
      "2003-06 30.1\n",
      "2003-07 29.6\n",
      "2003-08 29.6\n",
      "2003-09 30.7\n",
      "2003-10 30.8\n",
      "2003-11 29.9\n",
      "2003-12 28.5\n",
      "2004-01 28.5\n",
      "2004-02 29.2\n",
      "2004-03 29.4\n",
      "2004-04 29.8\n",
      "2004-05 28.5\n",
      "2004-06 29.1\n",
      "2004-07 29.0\n",
      "2004-09 30.0\n",
      "2004-11 28.7\n",
      "2004-12 28.6\n",
      "2005-01 \n",
      "2005-02 \n",
      "2005-04 29.4\n",
      "2005-05 29.9\n",
      "2005-06 30.2\n",
      "2005-07 \n",
      "2005-09 29.7\n",
      "2005-10 29.7\n",
      "2005-12 28.8\n",
      "2006-01 \n",
      "2006-03 28.9\n",
      "2006-06 30.7\n",
      "2006-07 \n",
      "2006-08 30.3\n",
      "2006-09 31.0\n",
      "2006-10 31.0\n",
      "2006-11 29.9\n",
      "2006-12 30.0\n",
      "2007-03 30.1\n",
      "2007-05 30.8\n",
      "2007-08 31.2\n",
      "2007-09 31.1\n",
      "2007-10 31.0\n",
      "2007-11 \n",
      "2008-02 29.4\n",
      "2008-03 29.9\n",
      "2008-04 30.2\n",
      "2008-05 30.5\n",
      "2008-06 30.8\n",
      "2011-11 \n",
      "2011-12 \n",
      "2012-04 30.0\n",
      "2012-07 \n",
      "2012-08 30.6\n",
      "2012-09 30.8\n",
      "2013-02 29.6\n",
      "2013-06 31.1\n",
      "2013-12 30.4\n",
      "2014-03 30.0\n",
      "2014-04 \n",
      "2014-07 \n",
      "2014-10 30.9\n",
      "2014-11 \n",
      "2014-12 29.5\n",
      "2016-12 29.9\n",
      "2017-06 31.2\n",
      "2017-09 31.7\n",
      "2017-11 30.5\n",
      "2017-12 29.5\n",
      "2018-05 30.5\n",
      "2018-12 29.6\n",
      "2019-03 \n",
      "2019-10 30.5\n",
      "2019-11 30.4\n",
      "2020-02 29.4\n"
     ]
    }
   ],
   "source": [
    "import csv\n",
    "with open(datafile) as csvfile:\n",
    "    records = csv.DictReader(csvfile)\n",
    "    print(records.fieldnames)\n",
    "    for row in records:\n",
    "        print(row['DATE'], row['TMAX'])"
   ]
  },
  {
   "cell_type": "markdown",
   "metadata": {},
   "source": [
    "The field names of the csv file include the station identifier, its name, and the date (month) of the measurement, and it also includes:\n",
    "\n",
    "|Field|Description\n",
    "|--- | ---\n",
    "|EMXP | Extreme maximum precipitation for the period.\n",
    "|EMXT | Extreme maximum temperature for the period.\n",
    "|TMAX | Maximum temperature\n",
    "|TAVG | Average Temperature.\n",
    "|TMIN | Minimum temperature\n",
    "|PRCP | Precipitation\n",
    "|HDSD | Heating Degree Days Season to Date\n",
    "|CDSD | Cooling Degree Days Season to Date\n",
    "|EMNT | Extreme minimum temperature for the period."
   ]
  },
  {
   "cell_type": "markdown",
   "metadata": {},
   "source": [
    "Now we are going to put everything in Pandas"
   ]
  },
  {
   "cell_type": "code",
   "execution_count": 56,
   "metadata": {},
   "outputs": [
    {
     "name": "stdout",
     "output_type": "stream",
     "text": [
      "      DATE  TAVG   PRCP\n",
      "0  1990-01  25.1  501.3\n",
      "1  1990-02  24.8  109.1\n",
      "2  1990-03  25.2  293.0\n",
      "3  1990-04  26.0  148.6\n",
      "4  1990-05  26.3  749.6\n",
      "5  1990-06  26.4  572.4\n",
      "6  1990-07  26.1  279.5\n",
      "7  1990-08  26.2  690.7\n",
      "8  1990-09  26.7  181.1\n",
      "9  1990-10  26.6  152.8\n"
     ]
    }
   ],
   "source": [
    "import pandas\n",
    "#dataframe = pandas.DataFrame([records], index=None)\n",
    "#fieldnames=['DATE','TAVG','PRCP'])\n",
    "#To do: from read, and DictRead to Pandas.\n",
    "#Take into account that DictRead does create a dictionary object (keys-hash)\n",
    "\n",
    "dataraw = pandas.read_csv(datafile)\n",
    "dataframe = pandas.DataFrame(dataraw, columns=['DATE','TAVG','PRCP'])\n",
    "\n",
    "print(dataframe[:10])"
   ]
  },
  {
   "cell_type": "markdown",
   "metadata": {},
   "source": [
    "### Data distributions\n",
    "Now that we have the data, lets plot some values."
   ]
  },
  {
   "cell_type": "code",
   "execution_count": 68,
   "metadata": {},
   "outputs": [
    {
     "data": {
      "image/png": "[encoded data removed]",
      "text/plain": [
       "<Figure size 432x288 with 1 Axes>"
      ]
     },
     "metadata": {
      "needs_background": "light"
     },
     "output_type": "display_data"
    },
    {
     "data": {
      "image/png": "[encoded data removed]",
      "text/plain": [
       "<Figure size 432x288 with 1 Axes>"
      ]
     },
     "metadata": {
      "needs_background": "light"
     },
     "output_type": "display_data"
    }
   ],
   "source": [
    "import matplotlib.pyplot as plt\n",
    "# Temperature distribution \n",
    "#fig, axs = plt.subplots(1,2,sharex=False, sharey=False);\n",
    "#fig.suptitle('Data distributions');\n",
    "#axs[0].set_title('Temperature');\n",
    "#axs[0].set_xlabel('Temp in °C');\n",
    "#plt.hist(dataframe.TAVG)\n",
    "#dataframe.TAVG.hist();\n",
    "#axs[1].set_title('Precipitation');\n",
    "#axs[1].set_xlabel('Prec in mm');\n",
    "#plt.hist(dataframe.PRCP)\n",
    "#dataframe.PRCP.hist();\n",
    "\n",
    "plt.figure()\n",
    "#dataframe.TAVG.hist();\n",
    "plt.hist(dataframe.TAVG, color='tab:blue', ec='skyblue');\n",
    "plt.title('Temperature');\n",
    "plt.xlabel('Temp in °C');\n",
    "plt.show();\n",
    "\n",
    "plt.figure()\n",
    "#dataframe.PRCP.hist();\n",
    "plt.hist(dataframe.PRCP, color='tab:orange', ec='bisque');\n",
    "plt.title('Precipitation');\n",
    "plt.xlabel('Prec in mm');\n",
    "plt.show();\n"
   ]
  },
  {
   "cell_type": "markdown",
   "metadata": {},
   "source": [
    "Now with the magic of pandas, we can check the temperature and precipitation change per year"
   ]
  },
  {
   "cell_type": "code",
   "execution_count": 94,
   "metadata": {},
   "outputs": [
    {
     "name": "stdout",
     "output_type": "stream",
     "text": [
      "          DATE  TAVG   PRCP\n",
      "0   1990-01-01  25.1  501.3\n",
      "1   1990-02-01  24.8  109.1\n",
      "2   1990-03-01  25.2  293.0\n",
      "3   1990-04-01  26.0  148.6\n",
      "4   1990-05-01  26.3  749.6\n",
      "..         ...   ...    ...\n",
      "228 2018-12-01  24.9    NaN\n",
      "229 2019-03-01   NaN  274.2\n",
      "230 2019-10-01  26.0    NaN\n",
      "231 2019-11-01  26.0    NaN\n",
      "232 2020-02-01  25.0    NaN\n",
      "\n",
      "[233 rows x 3 columns]\n"
     ]
    },
    {
     "data": {
      "image/png": "[encoded data removed]",
      "text/plain": [
       "<Figure size 432x288 with 1 Axes>"
      ]
     },
     "metadata": {
      "needs_background": "light"
     },
     "output_type": "display_data"
    },
    {
     "data": {
      "image/png": "[encoded data removed]",
      "text/plain": [
       "<Figure size 432x288 with 1 Axes>"
      ]
     },
     "metadata": {
      "needs_background": "light"
     },
     "output_type": "display_data"
    }
   ],
   "source": [
    "df=dataframe;\n",
    "df['DATE']=pandas.to_datetime(df.DATE);\n",
    "plt.figure(); plt.title('Temperature'); plt.xlabel('Year');  plt.ylabel('Temp. in °C');\n",
    "plt.plot(df.groupby(df.DATE.dt.year)['TAVG'].mean());\n",
    "plt.figure(); plt.title('Precipitation'); plt.xlabel('Year'); plt.ylabel('Prec. in mm/month');\n",
    "plt.plot(df.groupby(df.DATE.dt.year)['PRCP'].mean());\n"
   ]
  },
  {
   "cell_type": "code",
   "execution_count": 77,
   "metadata": {},
   "outputs": [
    {
     "name": "stdout",
     "output_type": "stream",
     "text": [
      "0      25.883333\n",
      "1      25.883333\n",
      "2      25.883333\n",
      "3      25.883333\n",
      "4      25.883333\n",
      "         ...    \n",
      "228    25.650000\n",
      "229    26.000000\n",
      "230    26.000000\n",
      "231    26.000000\n",
      "232    25.000000\n",
      "Name: TAVG, Length: 233, dtype: float64\n"
     ]
    }
   ],
   "source": [
    "print(j)"
   ]
  },
  {
   "cell_type": "code",
   "execution_count": null,
   "metadata": {},
   "outputs": [],
   "source": []
  }
 ],
 "metadata": {
  "kernelspec": {
   "display_name": "Python 3",
   "language": "python",
   "name": "python3"
  },
  "language_info": {
   "codemirror_mode": {
    "name": "ipython",
    "version": 3
   },
   "file_extension": ".py",
   "mimetype": "text/x-python",
   "name": "python",
   "nbconvert_exporter": "python",
   "pygments_lexer": "ipython3",
   "version": "3.6.9"
  }
 },
 "nbformat": 4,
 "nbformat_minor": 4
}
